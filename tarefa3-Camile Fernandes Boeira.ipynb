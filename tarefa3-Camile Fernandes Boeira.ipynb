{
  "nbformat": 4,
  "nbformat_minor": 0,
  "metadata": {
    "colab": {
      "provenance": [],
      "authorship_tag": "ABX9TyP7Bjp8itrTCxiYcefIgxRn",
      "include_colab_link": true
    },
    "kernelspec": {
      "name": "python3",
      "display_name": "Python 3"
    },
    "language_info": {
      "name": "python"
    }
  },
  "cells": [
    {
      "cell_type": "markdown",
      "metadata": {
        "id": "view-in-github",
        "colab_type": "text"
      },
      "source": [
        "<a href=\"https://colab.research.google.com/github/camileboeira/BasesComputacionais/blob/master/tarefa3-Camile%20Fernandes%20Boeira.ipynb\" target=\"_parent\"><img src=\"https://colab.research.google.com/assets/colab-badge.svg\" alt=\"Open In Colab\"/></a>"
      ]
    },
    {
      "cell_type": "markdown",
      "source": [
        "# Tarefa 3\n",
        "Camile Fernandes Boeira "
      ],
      "metadata": {
        "id": "ZZUf-mIAZQmD"
      }
    },
    {
      "cell_type": "code",
      "source": [
        "s = 60\n",
        "h = 60 * s\n",
        "\n",
        "print (f\"segundos em 1 hora e meia: {1.5*h}\")\n",
        "print (f\"segundos em 12 horas: {12*h}\")\n",
        "print (f\"segundos em 24 horas: {24*h}\")\n"
      ],
      "metadata": {
        "colab": {
          "base_uri": "https://localhost:8080/"
        },
        "id": "AbZWIhdDZxhJ",
        "outputId": "fce263ff-437f-41e4-e36f-8d3bcfb23739"
      },
      "execution_count": 25,
      "outputs": [
        {
          "output_type": "stream",
          "name": "stdout",
          "text": [
            "segundos em 1 hora e meia: 5400.0\n",
            "segundos em 12 horas: 43200\n",
            "segundos em 24 horas: 86400\n"
          ]
        }
      ]
    }
  ]
}